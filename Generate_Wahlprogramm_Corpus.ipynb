{
 "cells": [
  {
   "cell_type": "markdown",
   "metadata": {},
   "source": [
    "#  Generate the corpus for the Wahlprogramm analysis"
   ]
  },
  {
   "cell_type": "markdown",
   "metadata": {},
   "source": [
    "First we will read the election programs for \"AfD\", \"CDU\", \"Die Grünen\", \"SPD\", \"FDP\", \"Die Partei\", \"Piraten\" and \"Volt\" from PDF documents.\n",
    "The program for \"Die Linke\" will be parsed from their website as the PDF is a two columned text per side which makes it hard to extract the text via basic python libraries."
   ]
  },
  {
   "cell_type": "markdown",
   "metadata": {},
   "source": [
    "We will start with creating a Pandas DataFrame to hold our data. At the end all data will be stored in a single csv file."
   ]
  },
  {
   "cell_type": "code",
   "execution_count": 84,
   "metadata": {},
   "outputs": [
    {
     "name": "stdout",
     "output_type": "stream",
     "text": [
      "Empty DataFrame\n",
      "Columns: []\n",
      "Index: []\n"
     ]
    }
   ],
   "source": [
    "import pandas as pd\n",
    "\n",
    "programs_df = pd.DataFrame()\n",
    "print(programs_df)"
   ]
  },
  {
   "cell_type": "markdown",
   "metadata": {},
   "source": [
    "All programs available as a machine readable PDF document are stored in the directory \"./Wahlprogramme\". We generate a list of all these files to read them later for parsing."
   ]
  },
  {
   "cell_type": "code",
   "execution_count": 85,
   "metadata": {},
   "outputs": [
    {
     "name": "stdout",
     "output_type": "stream",
     "text": [
      "Found 78 files in directory\n",
      "         party                                               path\n",
      "0          FDP  ./Wahlprogramme/FDP/FDP_Wahlprogramm_Bremen_20...\n",
      "0          FDP  ./Wahlprogramme/FDP/FDP_Wahlprogramm_NRW_2017.pdf\n",
      "0          FDP  ./Wahlprogramme/FDP/FDP_Grundsatzprogramm_2012...\n",
      "0          FDP  ./Wahlprogramme/FDP/FDP_Wahlprogramm_NDS_2017.pdf\n",
      "0          FDP  ./Wahlprogramme/FDP/FDP_Wahlprogramm_Brandenbu...\n",
      "..         ...                                                ...\n",
      "0   Die Grünen  ./Wahlprogramme/Die Grünen/Die_Grünen_Wahlpro...\n",
      "0   Die Grünen  ./Wahlprogramme/Die Grünen/Die_Grünen_Wahlpro...\n",
      "0   Die Grünen  ./Wahlprogramme/Die Grünen/Die_Grünen_Wahlpro...\n",
      "0   Die Grünen  ./Wahlprogramme/Die Grünen/Die_Grünen_Bundest...\n",
      "0   Die Grünen  ./Wahlprogramme/Die Grünen/Die_Grünen_Wahlpro...\n",
      "\n",
      "[78 rows x 2 columns]\n"
     ]
    }
   ],
   "source": [
    "import os\n",
    "\n",
    "programs_base_path = './Wahlprogramme'\n",
    "\n",
    "# r=root, d=directories, f = files\n",
    "for r, d, f in os.walk(programs_base_path):        \n",
    "    for file in f:\n",
    "        if '.pdf' in file:\n",
    "            full_path = os.path.join(r, file)\n",
    "            party_name = os.path.dirname(full_path).replace(\"./Wahlprogramme/\", \"\")\n",
    "            # Create a vector with document path and party label\n",
    "            document_vector = pd.DataFrame({\n",
    "                'party': [party_name],\n",
    "                'path': [full_path]\n",
    "            })\n",
    "            # Add vector to programm paths dataframe\n",
    "            programs_df = pd.concat([programs_df, document_vector])\n",
    "\n",
    "print(\"Found {} files in directory\".format(len(programs_df)))\n",
    "print(programs_df)"
   ]
  },
  {
   "cell_type": "markdown",
   "metadata": {},
   "source": [
    "Next we iterate over all available PDF programs and add them do the programs dataframe"
   ]
  },
  {
   "cell_type": "code",
   "execution_count": 86,
   "metadata": {},
   "outputs": [
    {
     "name": "stdout",
     "output_type": "stream",
     "text": [
      "         party                                               path  \\\n",
      "0          FDP  ./Wahlprogramme/FDP/FDP_Wahlprogramm_Bremen_20...   \n",
      "0          FDP  ./Wahlprogramme/FDP/FDP_Wahlprogramm_NRW_2017.pdf   \n",
      "0          FDP  ./Wahlprogramme/FDP/FDP_Grundsatzprogramm_2012...   \n",
      "0          FDP  ./Wahlprogramme/FDP/FDP_Wahlprogramm_NDS_2017.pdf   \n",
      "0          FDP  ./Wahlprogramme/FDP/FDP_Wahlprogramm_Brandenbu...   \n",
      "..         ...                                                ...   \n",
      "0   Die Grünen  ./Wahlprogramme/Die Grünen/Die_Grünen_Wahlpro...   \n",
      "0   Die Grünen  ./Wahlprogramme/Die Grünen/Die_Grünen_Wahlpro...   \n",
      "0   Die Grünen  ./Wahlprogramme/Die Grünen/Die_Grünen_Wahlpro...   \n",
      "0   Die Grünen  ./Wahlprogramme/Die Grünen/Die_Grünen_Bundest...   \n",
      "0   Die Grünen  ./Wahlprogramme/Die Grünen/Die_Grünen_Wahlpro...   \n",
      "\n",
      "                                                 text  \n",
      "0   \\n\\n3\\n\\nLiebe Bremerinnen und Bremer,\\nliebe ...  \n",
      "0   Landtagswahlprogramm 2017 Seite 0 von 54\\n\\nLa...  \n",
      "0        Verantwortung für die Freiheit.\\n  Karlsr...  \n",
      "0      Wahlprogramm der Freien Demokraten\\n      z...  \n",
      "0   BRANDENBURG\\n WÄCHST MIT\\n   SEINEN\\n MENSCHEN...  \n",
      "..                                                ...  \n",
      "0       VOLLES\\nPROGRAMM\\n    BERLIN\\n       STADT...  \n",
      "0       Wahlprogramm\\n   von BÜNDNIS 90/\\nDIE GRÜN...  \n",
      "0   EIN     N    E  U    E     S\\n     P  I  T   E...  \n",
      "0   ZUKUNFT\\n      WIRD\\n AUS MUT\\nGEMACHT.\\n Bund...  \n",
      "0   WELTOFFEN.\\nÖKOLOGISCH.\\nGERECHT.\\nProgramm zu...  \n",
      "\n",
      "[78 rows x 3 columns]\n"
     ]
    }
   ],
   "source": [
    "# Import PDF-reader package 'pdftotext' to extract text from PDF documents\n",
    "import pdftotext\n",
    "\n",
    "text_list = []\n",
    "\n",
    "for index, program in programs_df.iterrows():\n",
    "    # Load PDF document\n",
    "    with open(program.path, 'rb') as f:\n",
    "        program_pdf = pdftotext.PDF(f)# Load PDF document\n",
    "        # Extract all pages text into one string\n",
    "        program_text = '\\n\\n'.join(program_pdf)\n",
    "        text_list.append(program_text)\n",
    "\n",
    "programs_df = programs_df.assign(text = text_list)\n",
    "print(programs_df)"
   ]
  },
  {
   "cell_type": "code",
   "execution_count": 87,
   "metadata": {},
   "outputs": [
    {
     "name": "stdout",
     "output_type": "stream",
     "text": [
      "Die meisten Dokumente kommen von der AfD, mit 18 von 78 Dokumenten.\n"
     ]
    },
    {
     "data": {
      "image/png": "[encoded data removed]",
      "text/plain": [
       "<Figure size 432x288 with 1 Axes>"
      ]
     },
     "metadata": {
      "needs_background": "light"
     },
     "output_type": "display_data"
    }
   ],
   "source": [
    "import matplotlib.pyplot as plt\n",
    "import numpy as np\n",
    "\n",
    "programs_total = programs_df.groupby(['party']).count().sort_values(by=['path']).reset_index()\n",
    "\n",
    "print(\"Die meisten Dokumente kommen von der {}, mit {} von {} Dokumenten.\".format(programs_total.iloc[-1]['party'], programs_total.iloc[-1]['path'], programs_total['path'].sum()))\n",
    "\n",
    "index = np.arange(len(programs_total))\n",
    "\n",
    "plt.barh(index, programs_total['path'])\n",
    "plt.yticks(index, programs_total['party'], fontsize=9)\n",
    "plt.ylabel('Partei')\n",
    "plt.xticks(np.arange(0, programs_total.iloc[-1]['path']+1, step=2))\n",
    "plt.xlabel('Anzahl Dokumente')\n",
    "plt.title('Dokumente pro Partei')\n",
    "\n",
    "plt.show()"
   ]
  },
  {
   "cell_type": "code",
   "execution_count": 88,
   "metadata": {},
   "outputs": [],
   "source": [
    "# Save the dataframe to one single csv file\n",
    "programs_df.to_csv('election_programs.csv', encoding='utf-16', index=False)"
   ]
  },
  {
   "cell_type": "code",
   "execution_count": 89,
   "metadata": {},
   "outputs": [
    {
     "name": "stdout",
     "output_type": "stream",
     "text": [
      "                                                         path  \\\n",
      "party                                                           \n",
      "FDP         ./Wahlprogramme/FDP/FDP_Wahlprogramm_Bremen_20...   \n",
      "FDP         ./Wahlprogramme/FDP/FDP_Wahlprogramm_NRW_2017.pdf   \n",
      "FDP         ./Wahlprogramme/FDP/FDP_Grundsatzprogramm_2012...   \n",
      "FDP         ./Wahlprogramme/FDP/FDP_Wahlprogramm_NDS_2017.pdf   \n",
      "FDP         ./Wahlprogramme/FDP/FDP_Wahlprogramm_Brandenbu...   \n",
      "...                                                       ...   \n",
      "Die Grünen  ./Wahlprogramme/Die Grünen/Die_Grünen_Wahlpro...   \n",
      "Die Grünen  ./Wahlprogramme/Die Grünen/Die_Grünen_Wahlpro...   \n",
      "Die Grünen  ./Wahlprogramme/Die Grünen/Die_Grünen_Wahlpro...   \n",
      "Die Grünen  ./Wahlprogramme/Die Grünen/Die_Grünen_Bundest...   \n",
      "Die Grünen  ./Wahlprogramme/Die Grünen/Die_Grünen_Wahlpro...   \n",
      "\n",
      "                                                         text  \n",
      "party                                                          \n",
      "FDP         \\n\\n3\\n\\nLiebe Bremerinnen und Bremer,\\nliebe ...  \n",
      "FDP         Landtagswahlprogramm 2017 Seite 0 von 54\\n\\nLa...  \n",
      "FDP              Verantwortung für die Freiheit.\\n  Karlsr...  \n",
      "FDP            Wahlprogramm der Freien Demokraten\\n      z...  \n",
      "FDP         BRANDENBURG\\n WÄCHST MIT\\n   SEINEN\\n MENSCHEN...  \n",
      "...                                                       ...  \n",
      "Die Grünen      VOLLES\\nPROGRAMM\\n    BERLIN\\n       STADT...  \n",
      "Die Grünen      Wahlprogramm\\n   von BÜNDNIS 90/\\nDIE GRÜN...  \n",
      "Die Grünen  EIN     N    E  U    E     S\\n     P  I  T   E...  \n",
      "Die Grünen  ZUKUNFT\\n      WIRD\\n AUS MUT\\nGEMACHT.\\n Bund...  \n",
      "Die Grünen  WELTOFFEN.\\nÖKOLOGISCH.\\nGERECHT.\\nProgramm zu...  \n",
      "\n",
      "[78 rows x 2 columns]\n"
     ]
    }
   ],
   "source": [
    "# Read csv file into dataframe to check everything worked fine\n",
    "read_programs = pd.read_csv('election_programs.csv', encoding='utf-16', index_col='party')\n",
    "print(read_programs)"
   ]
  },
  {
   "cell_type": "markdown",
   "metadata": {},
   "source": [
    "Von der guten Quelle: https://www.lpb-bw.de/thema-wahlen wurden folgende Programme bereits heruntergeladen:"
   ]
  },
  {
   "cell_type": "markdown",
   "metadata": {},
   "source": [
    "|Wahl|Parteiprogramme|\n",
    "|------|-----------------|\n",
    "|Bürgerschaftswahl Hamburg 2020|AfD, CDU, Die Grünen, Die Linke, FDP, SPD|\n",
    "|Landtagswahlen Thüringen 2019|AfD, Die Grünen, SPD|\n",
    "|Landtagswahl Brandenburg 2019|AfD, CDU, Die Grünen, Die Linke, FDP|\n",
    "|Landtwagwahl Sachsen 2019|AfD, CDU, Die Grünen, Die Linke, FDP, SPD|\n",
    "|Bürgerschaftswahl Bremen 2019|AfD, CDU, Die Grünen, Die Linke, FDP, SPD|\n",
    "|Landtwagwahl Hessen 2018|AfD, CDU, Die Grünen, Die Linke, FDP, SPD|\n",
    "|Landtwagwahl NRW 2017|AfD, CDU, Die Grünen, Die Linke, FDP, SPD|\n",
    "|Landtwagwahl Niedersachsen 2017|AfD, CDU, Die Grünen, Die Linke, FDP, SPD|\n",
    "|Landtwagwahl Saarland 2017|AfD, CDU|\n",
    "|Landtwagwahl Schleswig-Holstein 2017|AfD, Die Grünen, FDP|\n",
    "|Landtwagwahl Saarland 2017|AfD, CDU|\n",
    "|Wahl zum Abgeordnetenhaus Berlin 2017|AfD, Die Grünen, FDP|\n",
    "...\n"
   ]
  },
  {
   "cell_type": "code",
   "execution_count": null,
   "metadata": {},
   "outputs": [],
   "source": []
  }
 ],
 "metadata": {
  "kernelspec": {
   "display_name": "Python 3",
   "language": "python",
   "name": "python3"
  },
  "language_info": {
   "codemirror_mode": {
    "name": "ipython",
    "version": 3
   },
   "file_extension": ".py",
   "mimetype": "text/x-python",
   "name": "python",
   "nbconvert_exporter": "python",
   "pygments_lexer": "ipython3",
   "version": "3.7.7"
  }
 },
 "nbformat": 4,
 "nbformat_minor": 4
}
