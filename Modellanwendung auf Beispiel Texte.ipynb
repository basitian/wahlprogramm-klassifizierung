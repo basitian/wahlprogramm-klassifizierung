{
 "cells": [
  {
   "cell_type": "markdown",
   "metadata": {},
   "source": [
    "# Beispiel Texte"
   ]
  },
  {
   "cell_type": "markdown",
   "metadata": {},
   "source": [
    "Wir holen uns ein paar Beispielhafte politische Texte und klassifizieren deren Parteizugehörigkeit mit dem besten Modell. ***Herausfinden eines Schwellwertes für Parteizugehörigkeit 'andere'***"
   ]
  },
  {
   "cell_type": "markdown",
   "metadata": {},
   "source": [
    "Es werden folgende Imports gemacht: \n",
    " - trainiertes SVM Modell\n",
    " - TF-IDF Modell"
   ]
  },
  {
   "cell_type": "code",
   "execution_count": 68,
   "metadata": {},
   "outputs": [],
   "source": [
    "import pickle\n",
    "import pandas as pd\n",
    "import spacy\n",
    "import pdftotext\n",
    "from sklearn.feature_extraction.text import TfidfVectorizer\n",
    "\n",
    "nlp = spacy.load('de_core_news_sm')"
   ]
  },
  {
   "cell_type": "markdown",
   "metadata": {},
   "source": [
    "## Trainiertes SVM Modell"
   ]
  },
  {
   "cell_type": "code",
   "execution_count": 69,
   "metadata": {},
   "outputs": [],
   "source": [
    "model_path = 'Models/best_svc.pickle'\n",
    "\n",
    "with open(model_path, 'rb') as data:\n",
    "    svc_model = pickle.load(data)"
   ]
  },
  {
   "cell_type": "markdown",
   "metadata": {},
   "source": [
    "## TF-IDF Objekt"
   ]
  },
  {
   "cell_type": "code",
   "execution_count": 70,
   "metadata": {},
   "outputs": [],
   "source": [
    "tfidf_path = 'Pickles/tfidf.pickle'\n",
    "with open(tfidf_path, 'rb') as data:\n",
    "    tfidf = pickle.load(data)"
   ]
  },
  {
   "cell_type": "markdown",
   "metadata": {},
   "source": [
    "## Mapping der Kategorien"
   ]
  },
  {
   "cell_type": "code",
   "execution_count": 71,
   "metadata": {},
   "outputs": [],
   "source": [
    "party_codes = {\n",
    "    'FDP': 0,\n",
    "    'CDU': 1,\n",
    "    'AfD': 2,\n",
    "    'SPD': 3,\n",
    "    'Die Grünen': 4,\n",
    "    'Die Linke': 5\n",
    "}"
   ]
  },
  {
   "cell_type": "markdown",
   "metadata": {},
   "source": [
    "### Funktionen zur Umwandlung von Texten in Features"
   ]
  },
  {
   "cell_type": "code",
   "execution_count": 72,
   "metadata": {},
   "outputs": [],
   "source": [
    "# Definieren der Vorverarbeitungsfunktionen für einzelne Token\n",
    "def preprocess_token(token):\n",
    "    # Reduzierung von Token auf ihre kleingeschriebene lemmatisierte Form\n",
    "    return token.lemma_.strip().lower()\n",
    "\n",
    "\n",
    "# Überprüfung ob ein Token zulässig ist\n",
    "# Es werden nur Token zugelassen, die keine Stop-Wörter, keine Satzzeichen oder nicht alphanumerische Zeichen sind\n",
    "def is_token_allowed(token):\n",
    "        if (not token or \n",
    "            token.is_stop or \n",
    "            token.is_punct or \n",
    "            not token.is_alpha):\n",
    "            return False\n",
    "        return True\n",
    "\n",
    "def parseDocument(text):\n",
    "    lowered_text = text.lower()\n",
    "    document = nlp(lowered_text)\n",
    "    allowed_token_list = [preprocess_token(token) for token in document if is_token_allowed(token)]\n",
    "    parsed_text = \" \".join(allowed_token_list)\n",
    "    return parsed_text\n",
    "\n",
    "def create_features_from_text(text):\n",
    "    # bla bla\n",
    "    features_df = pd.DataFrame(columns=['text'])\n",
    "    features_df.loc[0] = text\n",
    "    features_df['text_parsed'] = features_df[\"text\"].apply(parseDocument)\n",
    "    features_df = features_df['text_parsed']\n",
    "    \n",
    "    features = tfidf.transform(features_df).toarray()\n",
    "    \n",
    "    return features"
   ]
  },
  {
   "cell_type": "markdown",
   "metadata": {},
   "source": [
    "Funktion zur Umwandlung der Partei Codes in Parteinamen"
   ]
  },
  {
   "cell_type": "code",
   "execution_count": 73,
   "metadata": {},
   "outputs": [],
   "source": [
    "def get_party_name(party_id):\n",
    "    for party, id_ in party_codes.items():    \n",
    "        if id_ == party_id:\n",
    "            return party"
   ]
  },
  {
   "cell_type": "markdown",
   "metadata": {},
   "source": [
    "Den kompletten Workflow zusammensetzen"
   ]
  },
  {
   "cell_type": "code",
   "execution_count": 74,
   "metadata": {},
   "outputs": [],
   "source": [
    "def predict_from_text(text):\n",
    "    \n",
    "    features = create_features_from_text(text)\n",
    "    \n",
    "    # Predict using the input model\n",
    "    prediction_svc = svc_model.predict(features)[0]\n",
    "    prediction_svc_proba = svc_model.predict_proba(features)[0]\n",
    "    \n",
    "    # Return result\n",
    "    party_svc = get_party_name(prediction_svc)\n",
    "    \n",
    "    print(\"The predicted party using the SVM model is %s.\" %(party_svc) )\n",
    "    print(\"The conditional probability is: %a\" %(prediction_svc_proba.max()*100))"
   ]
  },
  {
   "cell_type": "markdown",
   "metadata": {},
   "source": [
    "### Klassifizierung einer neuen Datei"
   ]
  },
  {
   "cell_type": "code",
   "execution_count": 75,
   "metadata": {},
   "outputs": [
    {
     "name": "stdout",
     "output_type": "stream",
     "text": [
      "The predicted party using the SVM model is AfD.\n",
      "The conditional probability is: 46.720773666703096\n"
     ]
    }
   ],
   "source": [
    "file_path = 'Wahlprogramme leichte Sprache und andere/Die PARTEI_Wahlprogramm.pdf'\n",
    "\n",
    "with open(file_path, 'rb') as f:\n",
    "    program_pdf = pdftotext.PDF(f)# Load PDF document\n",
    "    # Extract all pages text into one string\n",
    "    program_text = '\\n\\n'.join(program_pdf)\n",
    "    predict_from_text(program_text)"
   ]
  }
 ],
 "metadata": {
  "kernelspec": {
   "display_name": "Python 3",
   "language": "python",
   "name": "python3"
  },
  "language_info": {
   "codemirror_mode": {
    "name": "ipython",
    "version": 3
   },
   "file_extension": ".py",
   "mimetype": "text/x-python",
   "name": "python",
   "nbconvert_exporter": "python",
   "pygments_lexer": "ipython3",
   "version": "3.7.7"
  }
 },
 "nbformat": 4,
 "nbformat_minor": 4
}
